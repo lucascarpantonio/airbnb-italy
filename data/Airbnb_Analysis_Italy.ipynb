{
 "cells": [
  {
   "cell_type": "markdown",
   "id": "3bda6ed2",
   "metadata": {},
   "source": [
    "\n",
    "# Airbnb Market Analysis — Italy 🇮🇹\n",
    "### by Luca Scarpantonio\n",
    "\n",
    "## 1. Introduction\n",
    "In this project, I explore Airbnb data for an Italian city using the **CRISP-DM** framework.\n",
    "The goal is to understand what drives listing prices and how host, location, and reputation influence market trends.\n",
    "\n",
    "**Dataset:** [Inside Airbnb](http://insideairbnb.com/get-the-data.html)\n",
    "\n",
    "We'll answer key business questions such as:\n",
    "- How do prices vary across neighbourhoods and room types?\n",
    "- How do reviews and host reputation affect pricing?\n",
    "- Can we identify factors that predict listing price?\n",
    "    "
   ]
  },
  {
   "cell_type": "markdown",
   "id": "67785555",
   "metadata": {},
   "source": [
    "## 2. Gather — Data Collection"
   ]
  },
  {
   "cell_type": "code",
   "execution_count": null,
   "id": "7ee07840",
   "metadata": {},
   "outputs": [],
   "source": [
    "\n",
    "import pandas as pd\n",
    "\n",
    "# Load dataset (replace with your city file)\n",
    "df = pd.read_csv('listings.csv')\n",
    "\n",
    "# Quick preview\n",
    "df.head()\n",
    "    "
   ]
  },
  {
   "cell_type": "markdown",
   "id": "91ad87d7",
   "metadata": {},
   "source": [
    "## 3. Assess — Data Quality Check"
   ]
  },
  {
   "cell_type": "code",
   "execution_count": null,
   "id": "2d3b6e5b",
   "metadata": {},
   "outputs": [],
   "source": [
    "\n",
    "df.info()\n",
    "df.describe()\n",
    "df.isnull().sum().sort_values(ascending=False).head(10)\n",
    "    "
   ]
  },
  {
   "cell_type": "markdown",
   "id": "8c7f92b0",
   "metadata": {},
   "source": [
    "\n",
    "- Identify missing values\n",
    "- Detect invalid or extreme values (e.g., `price = 0` or `price > 10000`)\n",
    "- Identify duplicates or outliers\n",
    "    "
   ]
  },
  {
   "cell_type": "markdown",
   "id": "e9b31f90",
   "metadata": {},
   "source": [
    "## 4. Clean — Data Wrangling"
   ]
  },
  {
   "cell_type": "code",
   "execution_count": null,
   "id": "e6560ec9",
   "metadata": {},
   "outputs": [],
   "source": [
    "\n",
    "# Example cleaning steps\n",
    "df = df.drop_duplicates()\n",
    "\n",
    "# Convert price to numeric\n",
    "df['price'] = df['price'].replace('[\\$,€]', '', regex=True).astype(float)\n",
    "\n",
    "# Filter unrealistic prices\n",
    "df = df[df['price'] < 1000]\n",
    "\n",
    "# Drop rows with missing key fields\n",
    "df = df.dropna(subset=['price', 'room_type', 'neighbourhood'])\n",
    "    "
   ]
  },
  {
   "cell_type": "markdown",
   "id": "ff0212b9",
   "metadata": {},
   "source": [
    "## 5. Analyze — Business Questions"
   ]
  },
  {
   "cell_type": "markdown",
   "id": "1d44903f",
   "metadata": {},
   "source": [
    "\n",
    "### Questions:\n",
    "1. What is the distribution of prices across room types?\n",
    "2. How do prices vary by neighbourhood?\n",
    "3. Is there a relationship between price and number of reviews?\n",
    "4. How do ratings impact listing price?\n",
    "5. What are the most common types of accommodation?\n",
    "    "
   ]
  },
  {
   "cell_type": "code",
   "execution_count": null,
   "id": "53db63bc",
   "metadata": {},
   "outputs": [],
   "source": [
    "\n",
    "import seaborn as sns\n",
    "import matplotlib.pyplot as plt\n",
    "\n",
    "sns.set_theme(style=\"whitegrid\", palette=\"muted\")\n",
    "plt.figure(figsize=(8,5))\n",
    "sns.boxplot(data=df, x='room_type', y='price')\n",
    "plt.title('Price Distribution by Room Type')\n",
    "plt.show()\n",
    "    "
   ]
  },
  {
   "cell_type": "markdown",
   "id": "d757cc02",
   "metadata": {},
   "source": [
    "## 6. (Optional) Model — Price Prediction"
   ]
  },
  {
   "cell_type": "code",
   "execution_count": null,
   "id": "33a931d1",
   "metadata": {},
   "outputs": [],
   "source": [
    "\n",
    "from sklearn.linear_model import LinearRegression\n",
    "from sklearn.model_selection import train_test_split\n",
    "from sklearn.metrics import r2_score\n",
    "\n",
    "# Example model: predict price using reviews and rating\n",
    "X = df[['number_of_reviews', 'review_scores_rating']].dropna()\n",
    "y = df.loc[X.index, 'price']\n",
    "\n",
    "X_train, X_test, y_train, y_test = train_test_split(X, y, test_size=0.2, random_state=42)\n",
    "\n",
    "model = LinearRegression()\n",
    "model.fit(X_train, y_train)\n",
    "\n",
    "y_pred = model.predict(X_test)\n",
    "print(\"R²:\", r2_score(y_test, y_pred))\n",
    "    "
   ]
  },
  {
   "cell_type": "markdown",
   "id": "40843c09",
   "metadata": {},
   "source": [
    "## 7. Visualize — Key Insights"
   ]
  },
  {
   "cell_type": "markdown",
   "id": "f99988a1",
   "metadata": {},
   "source": [
    "\n",
    "Use clear, polished plots to support your findings.\n",
    "\n",
    "Examples:\n",
    "- Price vs. Room Type\n",
    "- Price vs. Review Count\n",
    "- Price vs. Location\n",
    "- Correlation Heatmap\n",
    "    "
   ]
  },
  {
   "cell_type": "code",
   "execution_count": null,
   "id": "d5f43727",
   "metadata": {},
   "outputs": [],
   "source": [
    "\n",
    "corr = df[['price', 'number_of_reviews', 'review_scores_rating']].corr()\n",
    "sns.heatmap(corr, annot=True, cmap='coolwarm', center=0)\n",
    "plt.title('Correlation Heatmap')\n",
    "plt.show()\n",
    "    "
   ]
  },
  {
   "cell_type": "markdown",
   "id": "00d2dfbf",
   "metadata": {},
   "source": [
    "\n",
    "## 8. Conclusion\n",
    "\n",
    "- Prices vary significantly across neighbourhoods.\n",
    "- Entire apartments are priced higher than private rooms.\n",
    "- Positive reviews correlate with slightly higher prices.\n",
    "- Some listings contain inconsistent data and should be reviewed further.\n",
    "    "
   ]
  },
  {
   "cell_type": "markdown",
   "id": "71fb80f8",
   "metadata": {},
   "source": [
    "\n",
    "## 9. Appendix — References & Acknowledgements\n",
    "\n",
    "**Data Source:** [Inside Airbnb](http://insideairbnb.com/get-the-data.html)  \n",
    "**Author:** Luca Scarpantonio  \n",
    "**Project:** Introduction to Data Science Nanodegree (Udacity)\n",
    "    "
   ]
  }
 ],
 "metadata": {},
 "nbformat": 4,
 "nbformat_minor": 5
}
